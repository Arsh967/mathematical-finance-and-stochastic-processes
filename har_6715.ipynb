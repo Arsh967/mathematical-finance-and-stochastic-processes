{
  "nbformat": 4,
  "nbformat_minor": 0,
  "metadata": {
    "colab": {
      "name": "har#6715",
      "provenance": [],
      "collapsed_sections": []
    },
    "kernelspec": {
      "name": "python3",
      "display_name": "Python 3"
    },
    "language_info": {
      "name": "python"
    }
  },
  "cells": [
    {
      "cell_type": "code",
      "metadata": {
        "id": "zJnBQXghG1-T"
      },
      "source": [
        "import pandas as pd\n",
        "import numpy as np\n",
        "import matplotlib.pyplot as ply\n",
        "import datetime as dt\n",
        "import pandas_datareader as dr"
      ],
      "execution_count": null,
      "outputs": []
    },
    {
      "cell_type": "code",
      "metadata": {
        "colab": {
          "base_uri": "https://localhost:8080/",
          "height": 234
        },
        "id": "DiBFj0u6HGJV",
        "outputId": "2928728e-27ed-469e-844f-8def28e66a5c"
      },
      "source": [
        "start=dt.datetime(2020,1,1)\n",
        "end=dt.datetime(2021,1,1)\n",
        "df1=dr.data.get_data_yahoo('YESBANK.NS',start,end)\n",
        "df2=dr.data.get_data_yahoo('TTM',start,end)\n",
        "df3=dr.data.get_data_yahoo('ADANIPORTS.NS',start,end)\n",
        "df3.head()"
      ],
      "execution_count": null,
      "outputs": [
        {
          "output_type": "execute_result",
          "data": {
            "text/html": [
              "<div>\n",
              "<style scoped>\n",
              "    .dataframe tbody tr th:only-of-type {\n",
              "        vertical-align: middle;\n",
              "    }\n",
              "\n",
              "    .dataframe tbody tr th {\n",
              "        vertical-align: top;\n",
              "    }\n",
              "\n",
              "    .dataframe thead th {\n",
              "        text-align: right;\n",
              "    }\n",
              "</style>\n",
              "<table border=\"1\" class=\"dataframe\">\n",
              "  <thead>\n",
              "    <tr style=\"text-align: right;\">\n",
              "      <th></th>\n",
              "      <th>High</th>\n",
              "      <th>Low</th>\n",
              "      <th>Open</th>\n",
              "      <th>Close</th>\n",
              "      <th>Volume</th>\n",
              "      <th>Adj Close</th>\n",
              "    </tr>\n",
              "    <tr>\n",
              "      <th>Date</th>\n",
              "      <th></th>\n",
              "      <th></th>\n",
              "      <th></th>\n",
              "      <th></th>\n",
              "      <th></th>\n",
              "      <th></th>\n",
              "    </tr>\n",
              "  </thead>\n",
              "  <tbody>\n",
              "    <tr>\n",
              "      <th>2020-01-01</th>\n",
              "      <td>379.250000</td>\n",
              "      <td>366.000000</td>\n",
              "      <td>368.000000</td>\n",
              "      <td>377.649994</td>\n",
              "      <td>11377167.0</td>\n",
              "      <td>373.521973</td>\n",
              "    </tr>\n",
              "    <tr>\n",
              "      <th>2020-01-02</th>\n",
              "      <td>384.700012</td>\n",
              "      <td>376.500000</td>\n",
              "      <td>377.950012</td>\n",
              "      <td>383.149994</td>\n",
              "      <td>5919760.0</td>\n",
              "      <td>378.961853</td>\n",
              "    </tr>\n",
              "    <tr>\n",
              "      <th>2020-01-03</th>\n",
              "      <td>384.350006</td>\n",
              "      <td>379.200012</td>\n",
              "      <td>382.700012</td>\n",
              "      <td>382.500000</td>\n",
              "      <td>3684824.0</td>\n",
              "      <td>378.318970</td>\n",
              "    </tr>\n",
              "    <tr>\n",
              "      <th>2020-01-06</th>\n",
              "      <td>388.000000</td>\n",
              "      <td>374.750000</td>\n",
              "      <td>388.000000</td>\n",
              "      <td>380.200012</td>\n",
              "      <td>12482680.0</td>\n",
              "      <td>376.044098</td>\n",
              "    </tr>\n",
              "    <tr>\n",
              "      <th>2020-01-07</th>\n",
              "      <td>389.750000</td>\n",
              "      <td>382.399994</td>\n",
              "      <td>384.049988</td>\n",
              "      <td>384.799988</td>\n",
              "      <td>8091465.0</td>\n",
              "      <td>380.593811</td>\n",
              "    </tr>\n",
              "  </tbody>\n",
              "</table>\n",
              "</div>"
            ],
            "text/plain": [
              "                  High         Low  ...      Volume   Adj Close\n",
              "Date                                ...                        \n",
              "2020-01-01  379.250000  366.000000  ...  11377167.0  373.521973\n",
              "2020-01-02  384.700012  376.500000  ...   5919760.0  378.961853\n",
              "2020-01-03  384.350006  379.200012  ...   3684824.0  378.318970\n",
              "2020-01-06  388.000000  374.750000  ...  12482680.0  376.044098\n",
              "2020-01-07  389.750000  382.399994  ...   8091465.0  380.593811\n",
              "\n",
              "[5 rows x 6 columns]"
            ]
          },
          "metadata": {
            "tags": []
          },
          "execution_count": 2
        }
      ]
    },
    {
      "cell_type": "code",
      "metadata": {
        "colab": {
          "base_uri": "https://localhost:8080/",
          "height": 234
        },
        "id": "r4UfLJ74HnHV",
        "outputId": "c12b9dba-312f-47d6-daad-24a0b8b8740f"
      },
      "source": [
        "df1.drop(['High','Low','Open','Close','Volume'],axis=1,inplace=True)\n",
        "df1.head()"
      ],
      "execution_count": null,
      "outputs": [
        {
          "output_type": "execute_result",
          "data": {
            "text/html": [
              "<div>\n",
              "<style scoped>\n",
              "    .dataframe tbody tr th:only-of-type {\n",
              "        vertical-align: middle;\n",
              "    }\n",
              "\n",
              "    .dataframe tbody tr th {\n",
              "        vertical-align: top;\n",
              "    }\n",
              "\n",
              "    .dataframe thead th {\n",
              "        text-align: right;\n",
              "    }\n",
              "</style>\n",
              "<table border=\"1\" class=\"dataframe\">\n",
              "  <thead>\n",
              "    <tr style=\"text-align: right;\">\n",
              "      <th></th>\n",
              "      <th>Adj Close</th>\n",
              "    </tr>\n",
              "    <tr>\n",
              "      <th>Date</th>\n",
              "      <th></th>\n",
              "    </tr>\n",
              "  </thead>\n",
              "  <tbody>\n",
              "    <tr>\n",
              "      <th>2020-01-01</th>\n",
              "      <td>46.650002</td>\n",
              "    </tr>\n",
              "    <tr>\n",
              "      <th>2020-01-02</th>\n",
              "      <td>47.349998</td>\n",
              "    </tr>\n",
              "    <tr>\n",
              "      <th>2020-01-03</th>\n",
              "      <td>47.099998</td>\n",
              "    </tr>\n",
              "    <tr>\n",
              "      <th>2020-01-06</th>\n",
              "      <td>45.150002</td>\n",
              "    </tr>\n",
              "    <tr>\n",
              "      <th>2020-01-07</th>\n",
              "      <td>45.049999</td>\n",
              "    </tr>\n",
              "  </tbody>\n",
              "</table>\n",
              "</div>"
            ],
            "text/plain": [
              "            Adj Close\n",
              "Date                 \n",
              "2020-01-01  46.650002\n",
              "2020-01-02  47.349998\n",
              "2020-01-03  47.099998\n",
              "2020-01-06  45.150002\n",
              "2020-01-07  45.049999"
            ]
          },
          "metadata": {
            "tags": []
          },
          "execution_count": 3
        }
      ]
    },
    {
      "cell_type": "code",
      "metadata": {
        "id": "pN9ofPU6JUZg"
      },
      "source": [
        "df2.drop(['High','Low','Open','Close','Volume'],axis=1,inplace=True)\n",
        "df3.drop(['High','Low','Open','Close','Volume'],axis=1,inplace=True)"
      ],
      "execution_count": null,
      "outputs": []
    },
    {
      "cell_type": "code",
      "metadata": {
        "colab": {
          "base_uri": "https://localhost:8080/",
          "height": 234
        },
        "id": "3QHBPpW-cn--",
        "outputId": "8f279ce0-7898-4720-e94f-01d8a43b943f"
      },
      "source": [
        "df1.rename(columns = {'Adj Close':'Yes Bank Adj Close'}, inplace = True)\n",
        "df2.rename(columns = {'Adj Close':'Tata Motors Adj Close'}, inplace = True)\n",
        "df3.rename(columns = {'Adj Close':'Adani Ports Adj Close'}, inplace = True)\n",
        "df1.head()"
      ],
      "execution_count": null,
      "outputs": [
        {
          "output_type": "execute_result",
          "data": {
            "text/html": [
              "<div>\n",
              "<style scoped>\n",
              "    .dataframe tbody tr th:only-of-type {\n",
              "        vertical-align: middle;\n",
              "    }\n",
              "\n",
              "    .dataframe tbody tr th {\n",
              "        vertical-align: top;\n",
              "    }\n",
              "\n",
              "    .dataframe thead th {\n",
              "        text-align: right;\n",
              "    }\n",
              "</style>\n",
              "<table border=\"1\" class=\"dataframe\">\n",
              "  <thead>\n",
              "    <tr style=\"text-align: right;\">\n",
              "      <th></th>\n",
              "      <th>Yes Bank Adj Close</th>\n",
              "    </tr>\n",
              "    <tr>\n",
              "      <th>Date</th>\n",
              "      <th></th>\n",
              "    </tr>\n",
              "  </thead>\n",
              "  <tbody>\n",
              "    <tr>\n",
              "      <th>2020-01-01</th>\n",
              "      <td>46.650002</td>\n",
              "    </tr>\n",
              "    <tr>\n",
              "      <th>2020-01-02</th>\n",
              "      <td>47.349998</td>\n",
              "    </tr>\n",
              "    <tr>\n",
              "      <th>2020-01-03</th>\n",
              "      <td>47.099998</td>\n",
              "    </tr>\n",
              "    <tr>\n",
              "      <th>2020-01-06</th>\n",
              "      <td>45.150002</td>\n",
              "    </tr>\n",
              "    <tr>\n",
              "      <th>2020-01-07</th>\n",
              "      <td>45.049999</td>\n",
              "    </tr>\n",
              "  </tbody>\n",
              "</table>\n",
              "</div>"
            ],
            "text/plain": [
              "            Yes Bank Adj Close\n",
              "Date                          \n",
              "2020-01-01           46.650002\n",
              "2020-01-02           47.349998\n",
              "2020-01-03           47.099998\n",
              "2020-01-06           45.150002\n",
              "2020-01-07           45.049999"
            ]
          },
          "metadata": {
            "tags": []
          },
          "execution_count": 5
        }
      ]
    },
    {
      "cell_type": "code",
      "metadata": {
        "colab": {
          "base_uri": "https://localhost:8080/",
          "height": 234
        },
        "id": "0S1QQtR5daoS",
        "outputId": "064e90bc-fd8f-474c-e005-0667f56bd24e"
      },
      "source": [
        "Table=pd.DataFrame()\n",
        "Table=pd.concat([df1, df2, df3], axis=1)\n",
        "Table.head()"
      ],
      "execution_count": null,
      "outputs": [
        {
          "output_type": "execute_result",
          "data": {
            "text/html": [
              "<div>\n",
              "<style scoped>\n",
              "    .dataframe tbody tr th:only-of-type {\n",
              "        vertical-align: middle;\n",
              "    }\n",
              "\n",
              "    .dataframe tbody tr th {\n",
              "        vertical-align: top;\n",
              "    }\n",
              "\n",
              "    .dataframe thead th {\n",
              "        text-align: right;\n",
              "    }\n",
              "</style>\n",
              "<table border=\"1\" class=\"dataframe\">\n",
              "  <thead>\n",
              "    <tr style=\"text-align: right;\">\n",
              "      <th></th>\n",
              "      <th>Yes Bank Adj Close</th>\n",
              "      <th>Tata Motors Adj Close</th>\n",
              "      <th>Adani Ports Adj Close</th>\n",
              "    </tr>\n",
              "    <tr>\n",
              "      <th>Date</th>\n",
              "      <th></th>\n",
              "      <th></th>\n",
              "      <th></th>\n",
              "    </tr>\n",
              "  </thead>\n",
              "  <tbody>\n",
              "    <tr>\n",
              "      <th>2020-01-01</th>\n",
              "      <td>46.650002</td>\n",
              "      <td>NaN</td>\n",
              "      <td>373.521973</td>\n",
              "    </tr>\n",
              "    <tr>\n",
              "      <th>2020-01-02</th>\n",
              "      <td>47.349998</td>\n",
              "      <td>13.52</td>\n",
              "      <td>378.961853</td>\n",
              "    </tr>\n",
              "    <tr>\n",
              "      <th>2020-01-03</th>\n",
              "      <td>47.099998</td>\n",
              "      <td>13.18</td>\n",
              "      <td>378.318970</td>\n",
              "    </tr>\n",
              "    <tr>\n",
              "      <th>2020-01-06</th>\n",
              "      <td>45.150002</td>\n",
              "      <td>13.03</td>\n",
              "      <td>376.044098</td>\n",
              "    </tr>\n",
              "    <tr>\n",
              "      <th>2020-01-07</th>\n",
              "      <td>45.049999</td>\n",
              "      <td>12.82</td>\n",
              "      <td>380.593811</td>\n",
              "    </tr>\n",
              "  </tbody>\n",
              "</table>\n",
              "</div>"
            ],
            "text/plain": [
              "            Yes Bank Adj Close  Tata Motors Adj Close  Adani Ports Adj Close\n",
              "Date                                                                        \n",
              "2020-01-01           46.650002                    NaN             373.521973\n",
              "2020-01-02           47.349998                  13.52             378.961853\n",
              "2020-01-03           47.099998                  13.18             378.318970\n",
              "2020-01-06           45.150002                  13.03             376.044098\n",
              "2020-01-07           45.049999                  12.82             380.593811"
            ]
          },
          "metadata": {
            "tags": []
          },
          "execution_count": 6
        }
      ]
    },
    {
      "cell_type": "code",
      "metadata": {
        "colab": {
          "base_uri": "https://localhost:8080/",
          "height": 234
        },
        "id": "ybbYgygbeRSm",
        "outputId": "8288504a-66e6-4d90-96ab-6b73cf7ba818"
      },
      "source": [
        "Table=np.log(Table/Table.shift(1))\n",
        "Table.head()"
      ],
      "execution_count": null,
      "outputs": [
        {
          "output_type": "execute_result",
          "data": {
            "text/html": [
              "<div>\n",
              "<style scoped>\n",
              "    .dataframe tbody tr th:only-of-type {\n",
              "        vertical-align: middle;\n",
              "    }\n",
              "\n",
              "    .dataframe tbody tr th {\n",
              "        vertical-align: top;\n",
              "    }\n",
              "\n",
              "    .dataframe thead th {\n",
              "        text-align: right;\n",
              "    }\n",
              "</style>\n",
              "<table border=\"1\" class=\"dataframe\">\n",
              "  <thead>\n",
              "    <tr style=\"text-align: right;\">\n",
              "      <th></th>\n",
              "      <th>Yes Bank Adj Close</th>\n",
              "      <th>Tata Motors Adj Close</th>\n",
              "      <th>Adani Ports Adj Close</th>\n",
              "    </tr>\n",
              "    <tr>\n",
              "      <th>Date</th>\n",
              "      <th></th>\n",
              "      <th></th>\n",
              "      <th></th>\n",
              "    </tr>\n",
              "  </thead>\n",
              "  <tbody>\n",
              "    <tr>\n",
              "      <th>2020-01-01</th>\n",
              "      <td>NaN</td>\n",
              "      <td>NaN</td>\n",
              "      <td>NaN</td>\n",
              "    </tr>\n",
              "    <tr>\n",
              "      <th>2020-01-02</th>\n",
              "      <td>0.014894</td>\n",
              "      <td>NaN</td>\n",
              "      <td>0.014459</td>\n",
              "    </tr>\n",
              "    <tr>\n",
              "      <th>2020-01-03</th>\n",
              "      <td>-0.005294</td>\n",
              "      <td>-0.025470</td>\n",
              "      <td>-0.001698</td>\n",
              "    </tr>\n",
              "    <tr>\n",
              "      <th>2020-01-06</th>\n",
              "      <td>-0.042283</td>\n",
              "      <td>-0.011446</td>\n",
              "      <td>-0.006031</td>\n",
              "    </tr>\n",
              "    <tr>\n",
              "      <th>2020-01-07</th>\n",
              "      <td>-0.002217</td>\n",
              "      <td>-0.016248</td>\n",
              "      <td>0.012026</td>\n",
              "    </tr>\n",
              "  </tbody>\n",
              "</table>\n",
              "</div>"
            ],
            "text/plain": [
              "            Yes Bank Adj Close  Tata Motors Adj Close  Adani Ports Adj Close\n",
              "Date                                                                        \n",
              "2020-01-01                 NaN                    NaN                    NaN\n",
              "2020-01-02            0.014894                    NaN               0.014459\n",
              "2020-01-03           -0.005294              -0.025470              -0.001698\n",
              "2020-01-06           -0.042283              -0.011446              -0.006031\n",
              "2020-01-07           -0.002217              -0.016248               0.012026"
            ]
          },
          "metadata": {
            "tags": []
          },
          "execution_count": 7
        }
      ]
    },
    {
      "cell_type": "code",
      "metadata": {
        "colab": {
          "base_uri": "https://localhost:8080/",
          "height": 295
        },
        "id": "3K4k8L1yh1Q3",
        "outputId": "7d3ac855-ef56-4ebb-e7b1-547c6fea89bb"
      },
      "source": [
        "Table.describe()"
      ],
      "execution_count": null,
      "outputs": [
        {
          "output_type": "execute_result",
          "data": {
            "text/html": [
              "<div>\n",
              "<style scoped>\n",
              "    .dataframe tbody tr th:only-of-type {\n",
              "        vertical-align: middle;\n",
              "    }\n",
              "\n",
              "    .dataframe tbody tr th {\n",
              "        vertical-align: top;\n",
              "    }\n",
              "\n",
              "    .dataframe thead th {\n",
              "        text-align: right;\n",
              "    }\n",
              "</style>\n",
              "<table border=\"1\" class=\"dataframe\">\n",
              "  <thead>\n",
              "    <tr style=\"text-align: right;\">\n",
              "      <th></th>\n",
              "      <th>Yes Bank Adj Close</th>\n",
              "      <th>Tata Motors Adj Close</th>\n",
              "      <th>Adani Ports Adj Close</th>\n",
              "    </tr>\n",
              "  </thead>\n",
              "  <tbody>\n",
              "    <tr>\n",
              "      <th>count</th>\n",
              "      <td>241.000000</td>\n",
              "      <td>247.000000</td>\n",
              "      <td>241.000000</td>\n",
              "    </tr>\n",
              "    <tr>\n",
              "      <th>mean</th>\n",
              "      <td>-0.005434</td>\n",
              "      <td>-0.000324</td>\n",
              "      <td>0.001321</td>\n",
              "    </tr>\n",
              "    <tr>\n",
              "      <th>std</th>\n",
              "      <td>0.082348</td>\n",
              "      <td>0.045016</td>\n",
              "      <td>0.027815</td>\n",
              "    </tr>\n",
              "    <tr>\n",
              "      <th>min</th>\n",
              "      <td>-0.823578</td>\n",
              "      <td>-0.198262</td>\n",
              "      <td>-0.210163</td>\n",
              "    </tr>\n",
              "    <tr>\n",
              "      <th>25%</th>\n",
              "      <td>-0.021979</td>\n",
              "      <td>-0.019874</td>\n",
              "      <td>-0.010029</td>\n",
              "    </tr>\n",
              "    <tr>\n",
              "      <th>50%</th>\n",
              "      <td>-0.003795</td>\n",
              "      <td>-0.001053</td>\n",
              "      <td>0.001186</td>\n",
              "    </tr>\n",
              "    <tr>\n",
              "      <th>75%</th>\n",
              "      <td>0.017192</td>\n",
              "      <td>0.024333</td>\n",
              "      <td>0.014154</td>\n",
              "    </tr>\n",
              "    <tr>\n",
              "      <th>max</th>\n",
              "      <td>0.457971</td>\n",
              "      <td>0.146246</td>\n",
              "      <td>0.109083</td>\n",
              "    </tr>\n",
              "  </tbody>\n",
              "</table>\n",
              "</div>"
            ],
            "text/plain": [
              "       Yes Bank Adj Close  Tata Motors Adj Close  Adani Ports Adj Close\n",
              "count          241.000000             247.000000             241.000000\n",
              "mean            -0.005434              -0.000324               0.001321\n",
              "std              0.082348               0.045016               0.027815\n",
              "min             -0.823578              -0.198262              -0.210163\n",
              "25%             -0.021979              -0.019874              -0.010029\n",
              "50%             -0.003795              -0.001053               0.001186\n",
              "75%              0.017192               0.024333               0.014154\n",
              "max              0.457971               0.146246               0.109083"
            ]
          },
          "metadata": {
            "tags": []
          },
          "execution_count": 8
        }
      ]
    },
    {
      "cell_type": "code",
      "metadata": {
        "colab": {
          "base_uri": "https://localhost:8080/"
        },
        "id": "qlwkkqHPjr3a",
        "outputId": "683ea52a-a2a2-4224-e29b-ed6eee7bebff"
      },
      "source": [
        "Table.describe().loc['std']"
      ],
      "execution_count": null,
      "outputs": [
        {
          "output_type": "execute_result",
          "data": {
            "text/plain": [
              "Yes Bank Adj Close       0.082348\n",
              "Tata Motors Adj Close    0.045016\n",
              "Adani Ports Adj Close    0.027815\n",
              "Name: std, dtype: float64"
            ]
          },
          "metadata": {
            "tags": []
          },
          "execution_count": 9
        }
      ]
    },
    {
      "cell_type": "code",
      "metadata": {
        "colab": {
          "base_uri": "https://localhost:8080/"
        },
        "id": "UbEsnEh6lLZX",
        "outputId": "9e3f5f51-8304-4855-df10-89603a1515a8"
      },
      "source": [
        "def weight_generator():\n",
        "  rand=np.random.random(3)\n",
        "  rand /=rand.sum()\n",
        "  return rand\n",
        "\n",
        "\n",
        "weight_generator()"
      ],
      "execution_count": null,
      "outputs": [
        {
          "output_type": "execute_result",
          "data": {
            "text/plain": [
              "array([0.38750967, 0.25162161, 0.36086872])"
            ]
          },
          "metadata": {
            "tags": []
          },
          "execution_count": 10
        }
      ]
    },
    {
      "cell_type": "code",
      "metadata": {
        "id": "ADHrTVF0o31b"
      },
      "source": [
        "def Mean_return(weight):\n",
        "  return np.dot(Table.describe().loc['mean'],weight)"
      ],
      "execution_count": null,
      "outputs": []
    },
    {
      "cell_type": "code",
      "metadata": {
        "colab": {
          "base_uri": "https://localhost:8080/"
        },
        "id": "BXscrXOhrz5c",
        "outputId": "63be014a-b71a-484a-9665-e2fcadc7e8e7"
      },
      "source": [
        "Mean_return(weight_generator())"
      ],
      "execution_count": null,
      "outputs": [
        {
          "output_type": "execute_result",
          "data": {
            "text/plain": [
              "-0.00315302020748858"
            ]
          },
          "metadata": {
            "tags": []
          },
          "execution_count": 13
        }
      ]
    },
    {
      "cell_type": "code",
      "metadata": {
        "id": "WGbzp9Gvr46A"
      },
      "source": [
        "def std(weight):\n",
        "  a=np.dot(np.dot(Table.cov(),weight),weight)\n",
        "  return a**(1/2)"
      ],
      "execution_count": null,
      "outputs": []
    },
    {
      "cell_type": "code",
      "metadata": {
        "colab": {
          "base_uri": "https://localhost:8080/"
        },
        "id": "JzN9f4-TtmSA",
        "outputId": "a688ff75-add6-4f85-d388-a5da3bbbc17c"
      },
      "source": [
        "std(weight_generator())"
      ],
      "execution_count": null,
      "outputs": [
        {
          "output_type": "execute_result",
          "data": {
            "text/plain": [
              "0.03527279496955114"
            ]
          },
          "metadata": {
            "tags": []
          },
          "execution_count": 15
        }
      ]
    },
    {
      "cell_type": "code",
      "metadata": {
        "id": "W7PS20i6uEkk"
      },
      "source": [
        "returns=[]\n",
        "deviations=[]\n",
        "weights=[]\n",
        "\n",
        "\n",
        "for i in range(0,1000):\n",
        "  w=weight_generator()\n",
        "  returns.append(Mean_return(w))\n",
        "  deviations.append(std(w))\n",
        "  weights.append(w)"
      ],
      "execution_count": null,
      "outputs": []
    },
    {
      "cell_type": "code",
      "metadata": {
        "colab": {
          "base_uri": "https://localhost:8080/",
          "height": 295
        },
        "id": "-bgPdL-Nv7RT",
        "outputId": "0f17cf00-4434-4b1d-cab5-d3062d2bd8fd"
      },
      "source": [
        "ply.scatter(deviations,returns)\n",
        "ply.title(\"Markowitz efficient frontier\")\n",
        "ply.xlabel(\"Standard Deviation\")\n",
        "ply.ylabel(\"Return\")\n",
        "ply.show()"
      ],
      "execution_count": null,
      "outputs": [
        {
          "output_type": "display_data",
          "data": {
            "image/png": "[encoded data removed]",
            "text/plain": [
              "<Figure size 432x288 with 1 Axes>"
            ]
          },
          "metadata": {
            "tags": [],
            "needs_background": "light"
          }
        }
      ]
    },
    {
      "cell_type": "code",
      "metadata": {
        "id": "Jrj-grw7weJF"
      },
      "source": [
        ""
      ],
      "execution_count": null,
      "outputs": []
    }
  ]
}